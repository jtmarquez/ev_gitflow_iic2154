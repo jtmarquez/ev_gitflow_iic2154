{
 "cells": [
  {
   "cell_type": "code",
   "execution_count": 11,
   "metadata": {},
   "outputs": [],
   "source": [
    "import pandas as pd\n",
    "import numpy as np\n",
    "\n",
    "def ejercicio_1(df : pd.DataFrame):\n",
    "    \n",
    "    #Ejercicio 1\n",
    "    return df.sort_values(by='retweetCount', ascending=False)[:10]\n",
    "\n",
    "def ejercicio_2(df: pd.DataFrame):\n",
    "    # Ejercicio 2\n",
    "    # Nota: Como no se especificó en enunciado, solamente se retorna user_id en conjunto con cuantos tweets hicieron\n",
    "    df['user_id'] = [user['id'] for user in df['user']]\n",
    "    grouped_and_sorted = df.groupby('user_id')['user'].count().sort_values(ascending=False)[:10]\n",
    "    return grouped_and_sorted\n",
    "def ejercicio_3(df: pd.DataFrame):\n",
    "    # Ejercicio 3\n",
    "    top_10_dates = df.groupby(df['date'].dt.to_period('D')).agg('count').sort_values(by='url',ascending=False)['date'][0:10]\n",
    "    return top_10_dates\n",
    "def ejercicio_4(df: pd.DataFrame):\n",
    "    hashtags = df['renderedContent'].str.findall(\"#[^\\s ]+\").explode()\n",
    "    top_10 = hashtags.value_counts().sort_values(ascending=False)[:10]\n",
    "    return top_10"
   ]
  },
  {
   "cell_type": "code",
   "execution_count": 2,
   "metadata": {},
   "outputs": [],
   "source": [
    "# Dado el alto tiempo requerido para cargar los datos, se optó por cargar los datos afuera de las funciones\n",
    "# Y luego pasarles el DataFrame a cada una de las funciones como argumento\n",
    "df = pd.read_json('farmers-protest-tweets-2021-03-5.json', lines=True)"
   ]
  },
  {
   "cell_type": "code",
   "execution_count": 13,
   "metadata": {},
   "outputs": [
    {
     "name": "stderr",
     "output_type": "stream",
     "text": [
      "C:\\Users\\Toto\\AppData\\Local\\Programs\\Python\\Python39\\lib\\site-packages\\pandas\\core\\arrays\\datetimes.py:1101: UserWarning: Converting to PeriodArray/Index representation will drop timezone information.\n",
      "  warnings.warn(\n"
     ]
    },
    {
     "data": {
      "text/plain": [
       "#FarmersProtest              397701\n",
       "#IStandWithFarmers            15725\n",
       "#farmersprotest               14704\n",
       "#IndianFarmersHumanRights     11987\n",
       "#FarmersAreIndia              11012\n",
       "#StandWithFarmers             10515\n",
       "#Rihanna                       8833\n",
       "#FarmersProtests               8695\n",
       "#Farmers                       6274\n",
       "#shameonbollywood              6252\n",
       "Name: renderedContent, dtype: int64"
      ]
     },
     "execution_count": 13,
     "metadata": {},
     "output_type": "execute_result"
    }
   ],
   "source": [
    "# Ejercicios\n",
    "\n",
    "ejercicio_1(df)\n",
    "ejercicio_2(df)\n",
    "ejercicio_3(df)\n",
    "ejercicio_4(df)"
   ]
  },
  {
   "cell_type": "code",
   "execution_count": null,
   "metadata": {},
   "outputs": [],
   "source": []
  }
 ],
 "metadata": {
  "interpreter": {
   "hash": "9d07bdcf90be3666fd6d7a22096567c33ff91cb4b96e83d74e0623f7e985a357"
  },
  "kernelspec": {
   "display_name": "Python 3.9.4 64-bit",
   "language": "python",
   "name": "python3"
  },
  "language_info": {
   "codemirror_mode": {
    "name": "ipython",
    "version": 3
   },
   "file_extension": ".py",
   "mimetype": "text/x-python",
   "name": "python",
   "nbconvert_exporter": "python",
   "pygments_lexer": "ipython3",
   "version": "3.9.4"
  },
  "orig_nbformat": 4
 },
 "nbformat": 4,
 "nbformat_minor": 2
}
